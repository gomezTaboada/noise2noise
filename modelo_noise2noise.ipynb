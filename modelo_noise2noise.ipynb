{
 "cells": [
  {
   "cell_type": "markdown",
   "id": "63e7b1ee",
   "metadata": {},
   "source": [
    "# Noise2Noise\n",
    "#### Learning Image Restoration without Clean Data"
   ]
  },
  {
   "cell_type": "code",
   "execution_count": null,
   "id": "d9943e84",
   "metadata": {},
   "outputs": [],
   "source": []
  },
  {
   "cell_type": "markdown",
   "id": "264df56f",
   "metadata": {},
   "source": [
    "### Preprocesamiento"
   ]
  },
  {
   "cell_type": "code",
   "execution_count": null,
   "id": "6b157721",
   "metadata": {},
   "outputs": [],
   "source": [
    "## PREPROCESAMIENTO"
   ]
  },
  {
   "cell_type": "code",
   "execution_count": null,
   "id": "869b3577",
   "metadata": {},
   "outputs": [],
   "source": []
  },
  {
   "cell_type": "markdown",
   "id": "58eb6a79",
   "metadata": {},
   "source": [
    "### Modelado"
   ]
  },
  {
   "cell_type": "code",
   "execution_count": 2,
   "id": "ed0d43f7",
   "metadata": {},
   "outputs": [
    {
     "ename": "ImportError",
     "evalue": "Keras requires TensorFlow 2.2 or higher. Install TensorFlow via `pip install tensorflow`",
     "output_type": "error",
     "traceback": [
      "\u001b[1;31m---------------------------------------------------------------------------\u001b[0m",
      "\u001b[1;31mModuleNotFoundError\u001b[0m                       Traceback (most recent call last)",
      "\u001b[1;32m~\\Desktop\\PUCP\\2021 - I\\Temas Avanzados en Computacion\\final_tac\\tac_final\\lib\\site-packages\\keras\\__init__.py\u001b[0m in \u001b[0;36m<module>\u001b[1;34m\u001b[0m\n\u001b[0;32m      2\u001b[0m \u001b[1;32mtry\u001b[0m\u001b[1;33m:\u001b[0m\u001b[1;33m\u001b[0m\u001b[1;33m\u001b[0m\u001b[0m\n\u001b[1;32m----> 3\u001b[1;33m     \u001b[1;32mfrom\u001b[0m \u001b[0mtensorflow\u001b[0m\u001b[1;33m.\u001b[0m\u001b[0mkeras\u001b[0m\u001b[1;33m.\u001b[0m\u001b[0mlayers\u001b[0m\u001b[1;33m.\u001b[0m\u001b[0mexperimental\u001b[0m\u001b[1;33m.\u001b[0m\u001b[0mpreprocessing\u001b[0m \u001b[1;32mimport\u001b[0m \u001b[0mRandomRotation\u001b[0m\u001b[1;33m\u001b[0m\u001b[1;33m\u001b[0m\u001b[0m\n\u001b[0m\u001b[0;32m      4\u001b[0m \u001b[1;32mexcept\u001b[0m \u001b[0mImportError\u001b[0m\u001b[1;33m:\u001b[0m\u001b[1;33m\u001b[0m\u001b[1;33m\u001b[0m\u001b[0m\n",
      "\u001b[1;31mModuleNotFoundError\u001b[0m: No module named 'tensorflow'",
      "\nDuring handling of the above exception, another exception occurred:\n",
      "\u001b[1;31mImportError\u001b[0m                               Traceback (most recent call last)",
      "\u001b[1;32m<ipython-input-2-43ac6bd241de>\u001b[0m in \u001b[0;36m<module>\u001b[1;34m\u001b[0m\n\u001b[1;32m----> 1\u001b[1;33m \u001b[1;32mimport\u001b[0m \u001b[0mkeras\u001b[0m\u001b[1;33m\u001b[0m\u001b[1;33m\u001b[0m\u001b[0m\n\u001b[0m\u001b[0;32m      2\u001b[0m \u001b[1;32mfrom\u001b[0m \u001b[0mkeras\u001b[0m \u001b[1;32mimport\u001b[0m \u001b[0mlayers\u001b[0m\u001b[1;33m\u001b[0m\u001b[1;33m\u001b[0m\u001b[0m\n",
      "\u001b[1;32m~\\Desktop\\PUCP\\2021 - I\\Temas Avanzados en Computacion\\final_tac\\tac_final\\lib\\site-packages\\keras\\__init__.py\u001b[0m in \u001b[0;36m<module>\u001b[1;34m\u001b[0m\n\u001b[0;32m      3\u001b[0m     \u001b[1;32mfrom\u001b[0m \u001b[0mtensorflow\u001b[0m\u001b[1;33m.\u001b[0m\u001b[0mkeras\u001b[0m\u001b[1;33m.\u001b[0m\u001b[0mlayers\u001b[0m\u001b[1;33m.\u001b[0m\u001b[0mexperimental\u001b[0m\u001b[1;33m.\u001b[0m\u001b[0mpreprocessing\u001b[0m \u001b[1;32mimport\u001b[0m \u001b[0mRandomRotation\u001b[0m\u001b[1;33m\u001b[0m\u001b[1;33m\u001b[0m\u001b[0m\n\u001b[0;32m      4\u001b[0m \u001b[1;32mexcept\u001b[0m \u001b[0mImportError\u001b[0m\u001b[1;33m:\u001b[0m\u001b[1;33m\u001b[0m\u001b[1;33m\u001b[0m\u001b[0m\n\u001b[1;32m----> 5\u001b[1;33m     raise ImportError(\n\u001b[0m\u001b[0;32m      6\u001b[0m         \u001b[1;34m'Keras requires TensorFlow 2.2 or higher. '\u001b[0m\u001b[1;33m\u001b[0m\u001b[1;33m\u001b[0m\u001b[0m\n\u001b[0;32m      7\u001b[0m         'Install TensorFlow via `pip install tensorflow`')\n",
      "\u001b[1;31mImportError\u001b[0m: Keras requires TensorFlow 2.2 or higher. Install TensorFlow via `pip install tensorflow`"
     ]
    }
   ],
   "source": [
    "import keras\n",
    "from keras import layers"
   ]
  },
  {
   "cell_type": "code",
   "execution_count": 1,
   "id": "02c3ce88",
   "metadata": {},
   "outputs": [
    {
     "ename": "ModuleNotFoundError",
     "evalue": "No module named 'keras'",
     "output_type": "error",
     "traceback": [
      "\u001b[1;31m---------------------------------------------------------------------------\u001b[0m",
      "\u001b[1;31mModuleNotFoundError\u001b[0m                       Traceback (most recent call last)",
      "\u001b[1;32m<ipython-input-1-3c21587219db>\u001b[0m in \u001b[0;36m<module>\u001b[1;34m\u001b[0m\n\u001b[1;32m----> 1\u001b[1;33m \u001b[1;32mfrom\u001b[0m \u001b[0mkeras\u001b[0m \u001b[1;32mimport\u001b[0m \u001b[0mbackend\u001b[0m \u001b[1;32mas\u001b[0m \u001b[0mK\u001b[0m\u001b[1;33m\u001b[0m\u001b[1;33m\u001b[0m\u001b[0m\n\u001b[0m\u001b[0;32m      2\u001b[0m \u001b[0mk\u001b[0m\u001b[1;33m.\u001b[0m\u001b[0mclear_session\u001b[0m\u001b[1;33m(\u001b[0m\u001b[1;33m)\u001b[0m\u001b[1;33m\u001b[0m\u001b[1;33m\u001b[0m\u001b[0m\n",
      "\u001b[1;31mModuleNotFoundError\u001b[0m: No module named 'keras'"
     ]
    }
   ],
   "source": [
    "from keras import backend as K\n",
    "k.clear_session()"
   ]
  },
  {
   "cell_type": "code",
   "execution_count": null,
   "id": "cf6ce16b",
   "metadata": {},
   "outputs": [],
   "source": [
    "input_img = keras.Input(shape=(256, 256, 3))"
   ]
  },
  {
   "cell_type": "code",
   "execution_count": null,
   "id": "bfe67079",
   "metadata": {},
   "outputs": [],
   "source": [
    "# ENCODER\n",
    "conv_1_a = layers.Conv2D(48, (2, 2), padding='same', use_bias=True)(input_img)\n",
    "l_relu_1_a = layers.LeakyReLU()(conv_1_a)\n",
    "conv_1_b = layers.Conv2D(48, (2, 2), padding='same', use_bias=True)(l_relu_1_a)\n",
    "l_relu_1_b = layers.LeakyReLU()(conv_1_b)\n",
    "maxpool_1 = layers.MaxPooling2D((2, 2), padding='same')(l_relu_1_b)\n",
    "\n",
    "conv_2 = layers.Conv2D(48, (2, 2), padding='same', use_bias=True)(maxpool_1)\n",
    "l_relu_2 = layers.LeakyReLU()(conv_2)\n",
    "maxpool_2 = layers.MaxPooling2D((2, 2), padding='same')(l_relu_2)\n",
    "\n",
    "conv_3 = layers.Conv2D(48, (2, 2), padding='same', use_bias=True)(maxpool_2)\n",
    "l_relu_3 = layers.LeakyReLU()(conv_3)\n",
    "maxpool_3 = layers.MaxPooling2D((2, 2), padding='same')(l_relu_3)\n",
    "\n",
    "conv_4 = layers.Conv2D(48, (2, 2), padding='same', use_bias=True)(maxpool_3)\n",
    "l_relu_4 = layers.LeakyReLU()(conv_4)\n",
    "maxpool_4 = layers.MaxPooling2D((2, 2), padding='same')(l_relu_4)\n",
    "\n",
    "conv_5_a = layers.Conv2D(48, (2, 2), padding='same', use_bias=True)(maxpool_4)\n",
    "l_relu_5_a = layers.LeakyReLU()(conv_5_a)\n",
    "maxpool_5 = layers.MaxPooling2D((2, 2), padding='same')(l_relu_5_a)\n",
    "conv_5_b = layers.Conv2D(48, (2, 2), padding='same', use_bias=True)(maxpool_5)\n",
    "encoded = layers.LeakyReLU()(conv_5_b)\n"
   ]
  },
  {
   "cell_type": "code",
   "execution_count": null,
   "id": "8c273f26",
   "metadata": {},
   "outputs": [],
   "source": [
    "# DECODER\n",
    "\n",
    "upsamp_6 = layers.UpSampling2D((2, 2))(encoded)\n",
    "conv_6_a = layers.Conv2D(96, (2, 2), padding='same', use_bias=True)(upsamp_6)\n",
    "l_relu_6_a = layers.LeakyReLU()(conv_6_a)\n",
    "conv_6_b = layers.Conv2D(96, (2, 2), padding='same', use_bias=True)(l_relu_6_a)\n",
    "l_relu_6_b = layers.LeakyReLU()(conv_6_b)\n",
    "\n",
    "upsamp_7 = layers.UpSampling2D((2, 2))(l_relu_6_b)\n",
    "conv_7_a = layers.Conv2D(96, (2, 2), padding='same', use_bias=True)(upsamp_7)\n",
    "l_relu_7_a = layers.LeakyReLU()(conv_7_a)\n",
    "conv_7_b = layers.Conv2D(96, (2, 2), padding='same', use_bias=True)(l_relu_7_a)\n",
    "l_relu_7_b = layers.LeakyReLU()(conv_7_b)\n",
    "\n",
    "upsamp_8 = layers.UpSampling2D((2, 2))(l_relu_7_b)\n",
    "conv_8_a = layers.Conv2D(96, (2, 2), padding='same', use_bias=True)(upsamp_8)\n",
    "l_relu_8_a = layers.LeakyReLU()(conv_8_a)\n",
    "conv_8_b = layers.Conv2D(96, (2, 2), padding='same', use_bias=True)(l_relu_8_a)\n",
    "l_relu_8_b = layers.LeakyReLU()(conv_8_b)\n",
    "\n",
    "upsamp_9 = layers.UpSampling2D((2, 2))(l_relu_8_b)\n",
    "conv_9_a = layers.Conv2D(96, (2, 2), padding='same', use_bias=True)(upsamp_9)\n",
    "l_relu_9_a = layers.LeakyReLU()(conv_9_a)\n",
    "conv_9_b = layers.Conv2D(96, (2, 2), padding='same', use_bias=True)(l_relu_9_a)\n",
    "l_relu_9_b = layers.LeakyReLU()(conv_9_b)\n",
    "\n",
    "upsamp_10 = layers.UpSampling2D((2, 2))(l_relu_9_b)\n",
    "conv_10_a = layers.Conv2D(64, (2, 2), padding='same', use_bias=True)(upsamp_10)\n",
    "l_relu_10_a = layers.LeakyReLU()(conv_10_a)\n",
    "conv_10_b = layers.Conv2D(32, (2, 2), padding='same', use_bias=True)(l_relu_10_a)\n",
    "l_relu_10_b = layers.LeakyReLU()(conv_10_b)\n",
    "\n",
    "decoded = layers.Conv2D(1, (3, 3), activation='sigmoid', padding='same')(l_relu_10_b)\n"
   ]
  },
  {
   "cell_type": "code",
   "execution_count": null,
   "id": "644e49ef",
   "metadata": {},
   "outputs": [],
   "source": []
  },
  {
   "cell_type": "code",
   "execution_count": null,
   "id": "8e1d41f4",
   "metadata": {},
   "outputs": [],
   "source": []
  }
 ],
 "metadata": {
  "kernelspec": {
   "display_name": "tac_final",
   "language": "python",
   "name": "tac_final"
  },
  "language_info": {
   "codemirror_mode": {
    "name": "ipython",
    "version": 3
   },
   "file_extension": ".py",
   "mimetype": "text/x-python",
   "name": "python",
   "nbconvert_exporter": "python",
   "pygments_lexer": "ipython3",
   "version": "3.8.8"
  }
 },
 "nbformat": 4,
 "nbformat_minor": 5
}
